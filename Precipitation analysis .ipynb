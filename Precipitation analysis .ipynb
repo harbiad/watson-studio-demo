{
    "cells": [
        {
            "cell_type": "markdown",
            "metadata": {},
            "source": "# Description\nThis notebook analyzes and visualizes precipitation data "
        },
        {
            "cell_type": "code",
            "execution_count": 12,
            "metadata": {},
            "outputs": [
                {
                    "data": {
                        "text/html": "<div>\n<style scoped>\n    .dataframe tbody tr th:only-of-type {\n        vertical-align: middle;\n    }\n\n    .dataframe tbody tr th {\n        vertical-align: top;\n    }\n\n    .dataframe thead th {\n        text-align: right;\n    }\n</style>\n<table border=\"1\" class=\"dataframe\">\n  <thead>\n    <tr style=\"text-align: right;\">\n      <th></th>\n      <th></th>\n      <th></th>\n      <th></th>\n      <th></th>\n      <th></th>\n      <th></th>\n      <th></th>\n      <th>._noaa-weather-sample-data</th>\n    </tr>\n  </thead>\n  <tbody>\n    <tr>\n      <th>NaN</th>\n      <th>HOURLYDewPointTempF</th>\n      <th>HOURLYRelativeHumidity</th>\n      <th>HOURLYDRYBULBTEMPF</th>\n      <th>HOURLYWETBULBTEMPF</th>\n      <th>HOURLYPrecip</th>\n      <th>HOURLYWindSpeed</th>\n      <th>HOURLYSeaLevelPressure</th>\n      <td>HOURLYStationPressure</td>\n    </tr>\n    <tr>\n      <th>2015-07-25T13:51:00Z</th>\n      <th>60</th>\n      <th>46</th>\n      <th>83</th>\n      <th>68</th>\n      <th>0.00</th>\n      <th>13</th>\n      <th>30.01</th>\n      <td>29.99</td>\n    </tr>\n    <tr>\n      <th>2016-11-18T23:51:00Z</th>\n      <th>34</th>\n      <th>48</th>\n      <th>53</th>\n      <th>44</th>\n      <th>0.00</th>\n      <th>6</th>\n      <th>30.05</th>\n      <td>30.03</td>\n    </tr>\n    <tr>\n      <th>2013-01-06T08:51:00Z</th>\n      <th>33</th>\n      <th>89</th>\n      <th>36</th>\n      <th>35</th>\n      <th>0.00</th>\n      <th>13</th>\n      <th>30.14</th>\n      <td>30.12</td>\n    </tr>\n    <tr>\n      <th>2011-01-27T16:51:00Z</th>\n      <th>18</th>\n      <th>48</th>\n      <th>36</th>\n      <th>30</th>\n      <th>0.00</th>\n      <th>14</th>\n      <th>29.82</th>\n      <td>29.8</td>\n    </tr>\n    <tr>\n      <th>2015-01-03T12:16:00Z</th>\n      <th>27</th>\n      <th>61</th>\n      <th>39</th>\n      <th>34</th>\n      <th>T</th>\n      <th>11</th>\n      <th>NaN</th>\n      <td>30.5</td>\n    </tr>\n    <tr>\n      <th>2013-02-15T20:51:00Z</th>\n      <th>35</th>\n      <th>79</th>\n      <th>41</th>\n      <th>38</th>\n      <th>0.00</th>\n      <th>6</th>\n      <th>29.94</th>\n      <td>29.92</td>\n    </tr>\n    <tr>\n      <th>2014-03-01T02:51:00Z</th>\n      <th>4</th>\n      <th>51</th>\n      <th>19</th>\n      <th>15</th>\n      <th>0.00</th>\n      <th>0</th>\n      <th>30.42</th>\n      <td>30.4</td>\n    </tr>\n    <tr>\n      <th>2014-02-12T21:51:00Z</th>\n      <th>14</th>\n      <th>65</th>\n      <th>24</th>\n      <th>21</th>\n      <th>0.00</th>\n      <th>11</th>\n      <th>30.37</th>\n      <td>30.35</td>\n    </tr>\n  </tbody>\n</table>\n</div>",
                        "text/plain": "                                                                                                                                                          ._noaa-weather-sample-data\nNaN                  HOURLYDewPointTempF HOURLYRelativeHumidity HOURLYDRYBULBTEMPF HOURLYWETBULBTEMPF HOURLYPrecip HOURLYWindSpeed HOURLYSeaLevelPressure      HOURLYStationPressure\n2015-07-25T13:51:00Z 60                  46                     83                 68                 0.00         13              30.01                                       29.99\n2016-11-18T23:51:00Z 34                  48                     53                 44                 0.00         6               30.05                                       30.03\n2013-01-06T08:51:00Z 33                  89                     36                 35                 0.00         13              30.14                                       30.12\n2011-01-27T16:51:00Z 18                  48                     36                 30                 0.00         14              29.82                                        29.8\n2015-01-03T12:16:00Z 27                  61                     39                 34                 T            11              NaN                                          30.5\n2013-02-15T20:51:00Z 35                  79                     41                 38                 0.00         6               29.94                                       29.92\n2014-03-01T02:51:00Z 4                   51                     19                 15                 0.00         0               30.42                                        30.4\n2014-02-12T21:51:00Z 14                  65                     24                 21                 0.00         11              30.37                                       30.35"
                    },
                    "execution_count": 12,
                    "metadata": {},
                    "output_type": "execute_result"
                }
            ],
            "source": "# The code was removed by Watson Studio for sharing."
        },
        {
            "cell_type": "code",
            "execution_count": null,
            "metadata": {},
            "outputs": [],
            "source": ""
        }
    ],
    "metadata": {
        "kernelspec": {
            "display_name": "Python 3.8",
            "language": "python",
            "name": "python3"
        },
        "language_info": {
            "codemirror_mode": {
                "name": "ipython",
                "version": 3
            },
            "file_extension": ".py",
            "mimetype": "text/x-python",
            "name": "python",
            "nbconvert_exporter": "python",
            "pygments_lexer": "ipython3",
            "version": "3.8.11"
        }
    },
    "nbformat": 4,
    "nbformat_minor": 1
}